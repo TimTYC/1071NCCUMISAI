{
  "nbformat": 4,
  "nbformat_minor": 0,
  "metadata": {
    "colab": {
      "name": "15 Python tips and tricks",
      "version": "0.3.2",
      "provenance": [],
      "include_colab_link": true
    },
    "kernelspec": {
      "name": "python3",
      "display_name": "Python 3"
    }
  },
  "cells": [
    {
      "cell_type": "markdown",
      "metadata": {
        "id": "view-in-github",
        "colab_type": "text"
      },
      "source": [
        "<a href=\"https://colab.research.google.com/github/TimTYC/1071NCCUMISAI/blob/master/15_Python_tips_and_tricks.ipynb\" target=\"_parent\"><img src=\"https://colab.research.google.com/assets/colab-badge.svg\" alt=\"Open In Colab\"/></a>"
      ]
    },
    {
      "cell_type": "markdown",
      "metadata": {
        "id": "AVh7tLGNK33Y",
        "colab_type": "text"
      },
      "source": [
        "## **15 Python tips and tricks, so you don’t have to look them up on Stack Overflow**\n",
        "https://medium.com/@george.seif94/15-python-tips-and-tricks-so-you-dont-have-to-look-them-up-on-stack-overflow-90cec02705ae"
      ]
    },
    {
      "cell_type": "markdown",
      "metadata": {
        "id": "d6cEmMVwLK21",
        "colab_type": "text"
      },
      "source": [
        "**(1) Swapping values**"
      ]
    },
    {
      "cell_type": "code",
      "metadata": {
        "id": "OtyeEY5bKNcp",
        "colab_type": "code",
        "outputId": "2f0b92db-cd2b-4aa4-cff0-9183acf3af11",
        "colab": {
          "base_uri": "https://localhost:8080/",
          "height": 50
        }
      },
      "source": [
        "x, y = 1, 2\n",
        "print(x, y)\n",
        "x, y = y, x\n",
        "print(x, y)"
      ],
      "execution_count": 1,
      "outputs": [
        {
          "output_type": "stream",
          "text": [
            "1 2\n",
            "2 1\n"
          ],
          "name": "stdout"
        }
      ]
    },
    {
      "cell_type": "markdown",
      "metadata": {
        "id": "NPTwOGPiN3AA",
        "colab_type": "text"
      },
      "source": [
        "**(2) Combining a list of strings into a single one**"
      ]
    },
    {
      "cell_type": "code",
      "metadata": {
        "id": "3M9omiYRKJ8C",
        "colab_type": "code",
        "colab": {
          "base_uri": "https://localhost:8080/",
          "height": 34
        },
        "outputId": "7169fca8-f7b0-4b74-ac9b-baa3a014bad2"
      },
      "source": [
        "sentence_list = [\"my\", \"name\", \"is\", \"George\"]\n",
        "sentence_string = \" \".join(sentence_list)\n",
        "print(sentence_string)"
      ],
      "execution_count": 2,
      "outputs": [
        {
          "output_type": "stream",
          "text": [
            "my name is George\n"
          ],
          "name": "stdout"
        }
      ]
    },
    {
      "cell_type": "markdown",
      "metadata": {
        "id": "QhKaxvfgOPQl",
        "colab_type": "text"
      },
      "source": [
        "**(3) Splitting a string into a list of substrings**"
      ]
    },
    {
      "cell_type": "code",
      "metadata": {
        "id": "yzzWTgGmOW3k",
        "colab_type": "code",
        "colab": {
          "base_uri": "https://localhost:8080/",
          "height": 34
        },
        "outputId": "fb1679f1-e7fa-4b6a-e9c1-de65778f5188"
      },
      "source": [
        "sentence_string = \"my name is George\"\n",
        "sentence_string.split()\n",
        "print(sentence_string)"
      ],
      "execution_count": 3,
      "outputs": [
        {
          "output_type": "stream",
          "text": [
            "my name is George\n"
          ],
          "name": "stdout"
        }
      ]
    },
    {
      "cell_type": "markdown",
      "metadata": {
        "id": "f-kUGiN0Ofkg",
        "colab_type": "text"
      },
      "source": [
        "**(4) Initialising a list filled with some number**"
      ]
    },
    {
      "cell_type": "code",
      "metadata": {
        "id": "N0pBwRa6Ok74",
        "colab_type": "code",
        "colab": {}
      },
      "source": [
        "[0]*1000 # List of 1000 zeros \n",
        "[8.2]*1000 # List of 1000 8.2's"
      ],
      "execution_count": 0,
      "outputs": []
    },
    {
      "cell_type": "markdown",
      "metadata": {
        "id": "p67IPLQwO4T8",
        "colab_type": "text"
      },
      "source": [
        "**(5) Merging dictionaries**"
      ]
    },
    {
      "cell_type": "code",
      "metadata": {
        "id": "J2MaNB9NO-QZ",
        "colab_type": "code",
        "colab": {}
      },
      "source": [
        "x = {'a': 1, 'b': 2}\n",
        "y = {'b': 3, 'c': 4}\n",
        "z = {**x, **y}"
      ],
      "execution_count": 0,
      "outputs": []
    },
    {
      "cell_type": "markdown",
      "metadata": {
        "id": "E1pFo3-UPR_K",
        "colab_type": "text"
      },
      "source": [
        "**(6) Reversing a string**"
      ]
    },
    {
      "cell_type": "code",
      "metadata": {
        "id": "UlcJ1ExlPUav",
        "colab_type": "code",
        "colab": {
          "base_uri": "https://localhost:8080/",
          "height": 34
        },
        "outputId": "1f43d318-3d1d-4283-c65a-578b097e77d0"
      },
      "source": [
        "name = \"George\"\n",
        "name[::-1]"
      ],
      "execution_count": 7,
      "outputs": [
        {
          "output_type": "execute_result",
          "data": {
            "text/plain": [
              "'egroeG'"
            ]
          },
          "metadata": {
            "tags": []
          },
          "execution_count": 7
        }
      ]
    },
    {
      "cell_type": "markdown",
      "metadata": {
        "id": "Zc6McqXqPfyX",
        "colab_type": "text"
      },
      "source": [
        "**(7) Returning multiple values from a function**"
      ]
    },
    {
      "cell_type": "code",
      "metadata": {
        "id": "dwiVHFuHPiE_",
        "colab_type": "code",
        "colab": {
          "base_uri": "https://localhost:8080/",
          "height": 128
        },
        "outputId": "5ecc9a26-e189-4bdd-81bd-2ba445fcf682"
      },
      "source": [
        "def get_a_string():\n",
        "    a = \"George\"\n",
        "    b = \"is\"\n",
        "    c = \"cool\"\n",
        "    return a, b, bsentence = get_a_string()\n",
        "(a, b, c) = sentence"
      ],
      "execution_count": 11,
      "outputs": [
        {
          "output_type": "error",
          "ename": "SyntaxError",
          "evalue": "ignored",
          "traceback": [
            "\u001b[0;36m  File \u001b[0;32m\"<ipython-input-11-338d8e3ae23d>\"\u001b[0;36m, line \u001b[0;32m5\u001b[0m\n\u001b[0;31m    return a, b, bsentence = get_a_string()\u001b[0m\n\u001b[0m                           ^\u001b[0m\n\u001b[0;31mSyntaxError\u001b[0m\u001b[0;31m:\u001b[0m invalid syntax\n"
          ]
        }
      ]
    },
    {
      "cell_type": "markdown",
      "metadata": {
        "id": "pCbL67_gc7tB",
        "colab_type": "text"
      },
      "source": [
        "**(8) List comprehension**"
      ]
    },
    {
      "cell_type": "code",
      "metadata": {
        "id": "deebAEVkdBHL",
        "colab_type": "code",
        "colab": {}
      },
      "source": [
        "a = [1, 2, 3]\n",
        "b = [num*2 for num in a] # Create a new list by multiplying each element in a by 2"
      ],
      "execution_count": 0,
      "outputs": []
    },
    {
      "cell_type": "markdown",
      "metadata": {
        "id": "GMCdQ0cAdVn_",
        "colab_type": "text"
      },
      "source": [
        "**(9) Iterating over a dictionary**"
      ]
    },
    {
      "cell_type": "code",
      "metadata": {
        "id": "z1-BrcRqdaj2",
        "colab_type": "code",
        "colab": {
          "base_uri": "https://localhost:8080/",
          "height": 84
        },
        "outputId": "f240ed1c-f641-47f6-9bb7-dd05fb8aae02"
      },
      "source": [
        "m = {'a': 1, 'b': 2, 'c': 3, 'd': 4} \n",
        "for key, value in m.items():\n",
        "    print('{0}: {1}'.format(key, value))"
      ],
      "execution_count": 14,
      "outputs": [
        {
          "output_type": "stream",
          "text": [
            "a: 1\n",
            "b: 2\n",
            "c: 3\n",
            "d: 4\n"
          ],
          "name": "stdout"
        }
      ]
    },
    {
      "cell_type": "markdown",
      "metadata": {
        "id": "qEuM-tigdnSK",
        "colab_type": "text"
      },
      "source": [
        "**(10) Iterating over list values while getting the index too**"
      ]
    },
    {
      "cell_type": "code",
      "metadata": {
        "id": "6S-rhs5Bdrun",
        "colab_type": "code",
        "colab": {
          "base_uri": "https://localhost:8080/",
          "height": 84
        },
        "outputId": "792011c1-b0fa-4028-b08d-a41f8fb2c018"
      },
      "source": [
        "m = ['a', 'b', 'c', 'd']\n",
        "for index, value in enumerate(m):\n",
        "    print('{0}: {1}'.format(index, value))"
      ],
      "execution_count": 15,
      "outputs": [
        {
          "output_type": "stream",
          "text": [
            "0: a\n",
            "1: b\n",
            "2: c\n",
            "3: d\n"
          ],
          "name": "stdout"
        }
      ]
    },
    {
      "cell_type": "markdown",
      "metadata": {
        "id": "lI2y9EWCd-Mo",
        "colab_type": "text"
      },
      "source": [
        "**(11) Initialising empty containers**"
      ]
    },
    {
      "cell_type": "code",
      "metadata": {
        "id": "JSC5qqLqeE1a",
        "colab_type": "code",
        "colab": {
          "base_uri": "https://localhost:8080/",
          "height": 232
        },
        "outputId": "50d7af3d-514b-4a55-c0ac-5a820fa77cb3"
      },
      "source": [
        "a_list = list()\n",
        "a_dict = dict()\n",
        "a_map = map()\n",
        "a_set = set()"
      ],
      "execution_count": 16,
      "outputs": [
        {
          "output_type": "error",
          "ename": "TypeError",
          "evalue": "ignored",
          "traceback": [
            "\u001b[0;31m---------------------------------------------------------------------------\u001b[0m",
            "\u001b[0;31mTypeError\u001b[0m                                 Traceback (most recent call last)",
            "\u001b[0;32m<ipython-input-16-85257fec5dc2>\u001b[0m in \u001b[0;36m<module>\u001b[0;34m()\u001b[0m\n\u001b[1;32m      1\u001b[0m \u001b[0ma_list\u001b[0m \u001b[0;34m=\u001b[0m \u001b[0mlist\u001b[0m\u001b[0;34m(\u001b[0m\u001b[0;34m)\u001b[0m\u001b[0;34m\u001b[0m\u001b[0;34m\u001b[0m\u001b[0m\n\u001b[1;32m      2\u001b[0m \u001b[0ma_dict\u001b[0m \u001b[0;34m=\u001b[0m \u001b[0mdict\u001b[0m\u001b[0;34m(\u001b[0m\u001b[0;34m)\u001b[0m\u001b[0;34m\u001b[0m\u001b[0;34m\u001b[0m\u001b[0m\n\u001b[0;32m----> 3\u001b[0;31m \u001b[0ma_map\u001b[0m \u001b[0;34m=\u001b[0m \u001b[0mmap\u001b[0m\u001b[0;34m(\u001b[0m\u001b[0;34m)\u001b[0m\u001b[0;34m\u001b[0m\u001b[0;34m\u001b[0m\u001b[0m\n\u001b[0m\u001b[1;32m      4\u001b[0m \u001b[0ma_set\u001b[0m \u001b[0;34m=\u001b[0m \u001b[0mset\u001b[0m\u001b[0;34m(\u001b[0m\u001b[0;34m)\u001b[0m\u001b[0;34m\u001b[0m\u001b[0;34m\u001b[0m\u001b[0m\n",
            "\u001b[0;31mTypeError\u001b[0m: map() must have at least two arguments."
          ]
        }
      ]
    },
    {
      "cell_type": "markdown",
      "metadata": {
        "id": "PpOvH6ujeOQd",
        "colab_type": "text"
      },
      "source": [
        "**(12) Removing useless characters on the end of your string**"
      ]
    },
    {
      "cell_type": "code",
      "metadata": {
        "id": "AsSV6UgCeQsV",
        "colab_type": "code",
        "colab": {
          "base_uri": "https://localhost:8080/",
          "height": 34
        },
        "outputId": "f069019a-a452-4911-f982-22dbb266f99d"
      },
      "source": [
        "name = \"  George \"\n",
        "name_2 = \"George///\"\n",
        "name.strip() # prints \"George\"\n",
        "name_2.strip(\"/\") # prints \"George\"="
      ],
      "execution_count": 17,
      "outputs": [
        {
          "output_type": "execute_result",
          "data": {
            "text/plain": [
              "'George'"
            ]
          },
          "metadata": {
            "tags": []
          },
          "execution_count": 17
        }
      ]
    },
    {
      "cell_type": "markdown",
      "metadata": {
        "id": "90HUJ4_RecRX",
        "colab_type": "text"
      },
      "source": [
        "**(13) Find the most frequent element in a list**"
      ]
    },
    {
      "cell_type": "code",
      "metadata": {
        "id": "1oUycbeoeej7",
        "colab_type": "code",
        "colab": {
          "base_uri": "https://localhost:8080/",
          "height": 34
        },
        "outputId": "232a8ff1-283d-486c-b677-9802a9277385"
      },
      "source": [
        "test = [1, 2, 3, 4, 2, 2, 3, 1, 4, 4, 4]\n",
        "print(max(set(test), key = test.count))"
      ],
      "execution_count": 18,
      "outputs": [
        {
          "output_type": "stream",
          "text": [
            "4\n"
          ],
          "name": "stdout"
        }
      ]
    },
    {
      "cell_type": "markdown",
      "metadata": {
        "id": "FxE2gmxvelo3",
        "colab_type": "text"
      },
      "source": [
        "**(14) Check the memory usage of an object**"
      ]
    },
    {
      "cell_type": "code",
      "metadata": {
        "id": "Pm1uXTufeomX",
        "colab_type": "code",
        "colab": {
          "base_uri": "https://localhost:8080/",
          "height": 34
        },
        "outputId": "5eb451d9-5c10-4aa9-8efa-5076b556dedb"
      },
      "source": [
        "import sys\n",
        "x = 1\n",
        "print(sys.getsizeof(x))"
      ],
      "execution_count": 20,
      "outputs": [
        {
          "output_type": "stream",
          "text": [
            "28\n"
          ],
          "name": "stdout"
        }
      ]
    },
    {
      "cell_type": "markdown",
      "metadata": {
        "id": "n1Pi-ZHeexnh",
        "colab_type": "text"
      },
      "source": [
        "**(15) Convert a dict to XML**"
      ]
    },
    {
      "cell_type": "code",
      "metadata": {
        "id": "Hnqa2R2Ye0pL",
        "colab_type": "code",
        "colab": {}
      },
      "source": [
        "from xml.etree.ElementTree import Element\n",
        "def dict_to_xml(tag, d):\n",
        "    '''\n",
        "    Turn a simple dict of key/value pairs into XML\n",
        "    '''\n",
        "    elem = Element(tag)\n",
        "    for key, val in d.items():\n",
        "        child = Element(key)\n",
        "        child.text = str(val)\n",
        "        elem.append(child)\n",
        "    return elem"
      ],
      "execution_count": 0,
      "outputs": []
    }
  ]
}